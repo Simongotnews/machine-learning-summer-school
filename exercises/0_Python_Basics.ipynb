{
 "cells": [
  {
   "cell_type": "markdown",
   "metadata": {},
   "source": [
    "# Jupyter and Python Basics"
   ]
  },
  {
   "cell_type": "markdown",
   "metadata": {},
   "source": [
    "## Jupyter is a Python shell divided in cells\n",
    "\n",
    "\n",
    "This cell is a *Markdown* cell (for texts like notes, manuals, etc.)\n",
    "You can edit this cell with a double click. `Ctrl + Enter` executes the cell, i.e. annotations for headlines, bullet lists and the like will be evaluated and the formatted result will be shown.\n",
    "\n",
    "The cell following the **\"Hello World!\"** headline is a *Code* cell\n",
    "It consists of an input `In [ ]` and an output.\n",
    "The execution of the entered code is started with `Ctrl + Enter`, just like the Markdown cell type.\n",
    "\n",
    "If the square brackets of the input cell are empty, the cell has not been executed yet.\n",
    "A star (`In [*]`) shows that the code of the cell is currently running.\n",
    "After the computation finished, the star is replaced with a number (e.g. `In [5]`) and the output (if any is produced) appears directly below the cell.\n",
    "\n",
    "The cells can be executed multiple times and in any order. The actual program flow is thus not defined by the cell order but by the numbers in the square brakets."
   ]
  },
  {
   "cell_type": "markdown",
   "metadata": {},
   "source": [
    "Let's beginn with the most standard program in the history: \n",
    "## \"Hello world!\""
   ]
  },
  {
   "cell_type": "code",
   "execution_count": null,
   "metadata": {},
   "outputs": [],
   "source": [
    "print(\"Hello world\")\n"
   ]
  },
  {
   "cell_type": "markdown",
   "metadata": {},
   "source": [
    "## Now let's try some math!\n"
   ]
  },
  {
   "cell_type": "code",
   "execution_count": null,
   "metadata": {
    "scrolled": true
   },
   "outputs": [],
   "source": [
    "print(4 + 4) # This is a comment\n",
    "print(5 - 3)\n",
    "print(5 * 2)\n",
    "print(8 / 3) # But 8/3 is not 2. What can we do to solve this?\n"
   ]
  },
  {
   "cell_type": "code",
   "execution_count": null,
   "metadata": {},
   "outputs": [],
   "source": [
    "\"\"\"You can also have comments \n",
    "that go over several lines.\n",
    "You just need to use quotes three times, \n",
    "''' \"\"\"\n",
    "but don't mix them\"\"\""
   ]
  },
  {
   "cell_type": "code",
   "execution_count": null,
   "metadata": {},
   "outputs": [],
   "source": [
    "print(8 / 3.0)\n"
   ]
  },
  {
   "cell_type": "markdown",
   "metadata": {},
   "source": [
    "And we can compute more:"
   ]
  },
  {
   "cell_type": "code",
   "execution_count": null,
   "metadata": {},
   "outputs": [],
   "source": [
    "print(5 ** 3)\n",
    "print(5 % 3)"
   ]
  },
  {
   "cell_type": "markdown",
   "metadata": {},
   "source": [
    "### Important!\n",
    "- == means comparison\n",
    "- = means assignment"
   ]
  },
  {
   "cell_type": "code",
   "execution_count": null,
   "metadata": {},
   "outputs": [],
   "source": [
    "print(5 == 3)\n",
    "a = 3\n",
    "print(a)"
   ]
  },
  {
   "cell_type": "markdown",
   "metadata": {},
   "source": [
    "## Data Structures\n",
    "In python you can create list of items (arrays)"
   ]
  },
  {
   "cell_type": "code",
   "execution_count": null,
   "metadata": {},
   "outputs": [],
   "source": [
    "students = [\"John\", \"Mary\", \"Ana\", \"Tim\", \"Bill\"]\n",
    "grades = [1, 1.7, 3.0, 1, \"Not in class\"]\n",
    "print(\"These are my students:\", students)\n",
    "print(\"Here are their grades:\", grades)"
   ]
  },
  {
   "cell_type": "markdown",
   "metadata": {},
   "source": [
    "You can also create dictionaries (Map/HashMap in Java).\n",
    "Using this structure you can link elements. We call them keys and values.\n",
    "### Important!:\n",
    "Keys must be unique. Otherwise you will overwrite the value of that key"
   ]
  },
  {
   "cell_type": "code",
   "execution_count": null,
   "metadata": {},
   "outputs": [],
   "source": [
    "dictionary = {}\n",
    "dictionary[\"a\"] = 1\n",
    "dictionary[\"b\"] = 2\n",
    "dictionary[\"c\"] = 3\n",
    "print(dictionary)\n",
    "\n",
    "dictionary[\"a\"] = [1, 2, 3, 5]\n",
    "print(dictionary)\n"
   ]
  },
  {
   "cell_type": "markdown",
   "metadata": {},
   "source": [
    "Again, it is possible to mix different structure types into a dictionary."
   ]
  },
  {
   "cell_type": "code",
   "execution_count": null,
   "metadata": {},
   "outputs": [],
   "source": [
    "my_dictionary = {}\n",
    "my_dictionary[\"d\"] = dictionary\n",
    "my_dictionary[\"e\"] = 5\n",
    "my_dictionary[\"f\"] = 6\n",
    "print(my_dictionary)"
   ]
  },
  {
   "cell_type": "code",
   "execution_count": null,
   "metadata": {},
   "outputs": [],
   "source": [
    "print(my_dictionary[\"d\"][\"a\"])"
   ]
  },
  {
   "cell_type": "code",
   "execution_count": null,
   "metadata": {},
   "outputs": [],
   "source": [
    "my_number = my_dictionary[\"e\"]\n",
    "print(my_number)"
   ]
  },
  {
   "cell_type": "markdown",
   "metadata": {},
   "source": [
    "## It's time for some loops\n",
    "Do you guys remember `for` and `while`? Here is an example of each of them:"
   ]
  },
  {
   "cell_type": "code",
   "execution_count": null,
   "metadata": {},
   "outputs": [],
   "source": [
    "my_list = [0, 1, 2, 3, 4]\n",
    "\n",
    "print(\"Here comes our first loop\")\n",
    "for i in my_list:\n",
    "    print(i ** 2)\n",
    "\n",
    "print(\"Here we go with the second one\")\n",
    "j = 1\n",
    "while j <= 4:\n",
    "    print(j-1)\n",
    "    j+=1\n",
    "    "
   ]
  },
  {
   "cell_type": "markdown",
   "metadata": {},
   "source": [
    "### Can you tell what's wrong with the following loop?\n",
    "If yes, go ahead and fix it :)"
   ]
  },
  {
   "cell_type": "code",
   "execution_count": null,
   "metadata": {},
   "outputs": [],
   "source": [
    "print(\"I'm an infinite loop!\")\n",
    "\n",
    "j = 3\n",
    "while j <= 4:\n",
    "    print(j-1)\n",
    "    j+=1"
   ]
  },
  {
   "cell_type": "markdown",
   "metadata": {},
   "source": [
    "## What about defining a function?\n",
    "\n",
    "Let's write a function that helps us by deciding if a number is even or odd."
   ]
  },
  {
   "cell_type": "code",
   "execution_count": null,
   "metadata": {},
   "outputs": [],
   "source": [
    "def is_even(number):\n",
    "    if (number % 2) == 0:\n",
    "        print(number, \" is even.\")\n",
    "    else:\n",
    "        print(number, \" is odd.\")\n",
    "        \n",
    "\n",
    "is_even(3)"
   ]
  },
  {
   "cell_type": "markdown",
   "metadata": {},
   "source": [
    "## Now is the turn for some Numpy insides"
   ]
  },
  {
   "cell_type": "code",
   "execution_count": null,
   "metadata": {},
   "outputs": [],
   "source": [
    "import numpy as np\n",
    "\n",
    "a = np.arange(15)\n",
    "print(a)"
   ]
  },
  {
   "cell_type": "code",
   "execution_count": null,
   "metadata": {},
   "outputs": [],
   "source": [
    "a = a.reshape(5,3)\n",
    "print(a)"
   ]
  },
  {
   "cell_type": "markdown",
   "metadata": {},
   "source": [
    "### A Numpy array has different attributes like shape, size, dimensions, type\n",
    "\n",
    "What is actually the difference between them?"
   ]
  },
  {
   "cell_type": "code",
   "execution_count": null,
   "metadata": {},
   "outputs": [],
   "source": [
    "print(\"shape of a is:\", a.shape)\n",
    "print(\"size of a is:\", a.size)\n",
    "print(\"dimensions in a:\", a.ndim)\n",
    "print(\"type of a is:\", a.dtype)"
   ]
  },
  {
   "cell_type": "markdown",
   "metadata": {},
   "source": [
    "### Why do we need Numpy if we have lists?\n",
    "\n",
    "Well, with Numpy we can also perform a lot of math operations"
   ]
  },
  {
   "cell_type": "code",
   "execution_count": null,
   "metadata": {},
   "outputs": [],
   "source": [
    "a = np.array([10, 20, 30, 40])\n",
    "b = np.arange(4)"
   ]
  },
  {
   "cell_type": "code",
   "execution_count": null,
   "metadata": {},
   "outputs": [],
   "source": [
    "print(a)\n",
    "print(b)"
   ]
  },
  {
   "cell_type": "code",
   "execution_count": null,
   "metadata": {},
   "outputs": [],
   "source": [
    "print(a - b)"
   ]
  },
  {
   "cell_type": "code",
   "execution_count": null,
   "metadata": {},
   "outputs": [],
   "source": [
    "print(a * b)"
   ]
  },
  {
   "cell_type": "code",
   "execution_count": null,
   "metadata": {},
   "outputs": [],
   "source": [
    "c = np.zeros(4)\n",
    "print(c)"
   ]
  },
  {
   "cell_type": "markdown",
   "metadata": {},
   "source": [
    "### Imagine we have two different arrays and we want to compare them\n",
    "\n",
    "How would you do this?"
   ]
  },
  {
   "cell_type": "code",
   "execution_count": null,
   "metadata": {},
   "outputs": [],
   "source": [
    "first_array = np.zeros(10)\n",
    "print(first_array)"
   ]
  },
  {
   "cell_type": "code",
   "execution_count": null,
   "metadata": {},
   "outputs": [],
   "source": [
    "second_array = np.ones(10)\n",
    "print(second_array)"
   ]
  },
  {
   "cell_type": "code",
   "execution_count": null,
   "metadata": {},
   "outputs": [],
   "source": [
    "first_array[2]= 1\n",
    "first_array[4]= 1\n",
    "first_array[8]= 1\n",
    "print(first_array)"
   ]
  },
  {
   "cell_type": "code",
   "execution_count": null,
   "metadata": {},
   "outputs": [],
   "source": [
    "print(np.equal(first_array, second_array))"
   ]
  },
  {
   "cell_type": "code",
   "execution_count": null,
   "metadata": {},
   "outputs": [],
   "source": [
    "print(np.sum(np.equal(first_array, second_array)))"
   ]
  },
  {
   "cell_type": "code",
   "execution_count": null,
   "metadata": {},
   "outputs": [],
   "source": [
    "first_array = first_array.reshape(2,5)\n",
    "print(first_array)"
   ]
  },
  {
   "cell_type": "markdown",
   "metadata": {},
   "source": [
    "Let's assign a single value in our array"
   ]
  },
  {
   "cell_type": "code",
   "execution_count": null,
   "metadata": {},
   "outputs": [],
   "source": [
    "first_array[1][4] = 5\n",
    "print(first_array)"
   ]
  },
  {
   "cell_type": "markdown",
   "metadata": {},
   "source": [
    "What about assigning a whole column?"
   ]
  },
  {
   "cell_type": "code",
   "execution_count": null,
   "metadata": {},
   "outputs": [],
   "source": [
    "first_array[:,3] = 3\n",
    "print(first_array)"
   ]
  },
  {
   "cell_type": "markdown",
   "metadata": {},
   "source": [
    "Would you be able to assign a whole row?"
   ]
  },
  {
   "cell_type": "code",
   "execution_count": null,
   "metadata": {},
   "outputs": [],
   "source": [
    "first_array[0,:] = 1\n",
    "print(first_array)"
   ]
  },
  {
   "cell_type": "markdown",
   "metadata": {},
   "source": [
    "Our last exercise for now, let's compute matrix multiplication:"
   ]
  },
  {
   "cell_type": "code",
   "execution_count": null,
   "metadata": {},
   "outputs": [],
   "source": [
    "second_array = second_array.reshape(5,2)\n",
    "print(second_array)"
   ]
  },
  {
   "cell_type": "code",
   "execution_count": null,
   "metadata": {},
   "outputs": [],
   "source": [
    "second_array[:,1] = 2\n",
    "print(second_array)"
   ]
  },
  {
   "cell_type": "code",
   "execution_count": null,
   "metadata": {},
   "outputs": [],
   "source": [
    "print(first_array.dot(second_array))"
   ]
  },
  {
   "cell_type": "code",
   "execution_count": null,
   "metadata": {},
   "outputs": [],
   "source": [
    "print(first_array * second_array) # Why do we have an error here?"
   ]
  },
  {
   "cell_type": "code",
   "execution_count": null,
   "metadata": {},
   "outputs": [],
   "source": [
    "print(first_array * second_array.reshape(2,5))"
   ]
  },
  {
   "cell_type": "code",
   "execution_count": null,
   "metadata": {},
   "outputs": [],
   "source": []
  }
 ],
 "metadata": {
  "kernelspec": {
   "display_name": "Python 3",
   "language": "python",
   "name": "python3"
  },
  "language_info": {
   "codemirror_mode": {
    "name": "ipython",
    "version": 3
   },
   "file_extension": ".py",
   "mimetype": "text/x-python",
   "name": "python",
   "nbconvert_exporter": "python",
   "pygments_lexer": "ipython3",
   "version": "3.6.5"
  }
 },
 "nbformat": 4,
 "nbformat_minor": 2
}
