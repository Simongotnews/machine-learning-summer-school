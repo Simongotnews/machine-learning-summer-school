{
 "cells": [
  {
   "cell_type": "markdown",
   "metadata": {},
   "source": [
    "# Summer School Workshop - Image Data Preprocessing"
   ]
  },
  {
   "cell_type": "markdown",
   "metadata": {},
   "source": [
    "Most Deep Learning Frameworks already include high-level interfaces for image transformation, so that the data can be processed by the neural net. The images are converted to the same level of resolution and size. \n",
    "Furthermore a conversion to byte arrays decreases the processing time.\n",
    "\n",
    "In this workshop we work on the subject to preprocess image data. Our goal will be an optimal training result."
   ]
  },
  {
   "cell_type": "code",
   "execution_count": null,
   "metadata": {},
   "outputs": [],
   "source": [
    "import pandas as pd\n",
    "import matplotlib.pyplot as plt\n",
    "import seaborn as sns\n",
    "import os\n",
    "import shutil"
   ]
  },
  {
   "cell_type": "markdown",
   "metadata": {},
   "source": [
    "## 1. Explore you data"
   ]
  },
  {
   "cell_type": "markdown",
   "metadata": {},
   "source": [
    "We already obtained your data! \n",
    "In the folder 'data' are 100 cat and 100 dog images. The images come from the Kaggle dataset of the challenge 'Dogs vs. Cats':  https://www.kaggle.com/c/dogs-vs-cats\\\n",
    "\n",
    "These images should be prepared now. As a result a dog vs. cat classifier can be trained on the basis of the prepared data. \n",
    "- Take a look at the folder and become familiar with the images!"
   ]
  },
  {
   "cell_type": "code",
   "execution_count": null,
   "metadata": {},
   "outputs": [],
   "source": [
    "csvlabels = pd.read_csv(\"../data/catdoglabels.csv\")\n",
    "csvlabels.head()"
   ]
  },
  {
   "cell_type": "code",
   "execution_count": null,
   "metadata": {},
   "outputs": [],
   "source": [
    "print (\"data size:\", csvlabels.shape)"
   ]
  },
  {
   "cell_type": "code",
   "execution_count": null,
   "metadata": {},
   "outputs": [],
   "source": [
    "# Occurance of labels \n",
    "temp = pd.DataFrame(csvlabels.label.value_counts())\n",
    "temp.reset_index(inplace=True)\n",
    "temp.columns = ['label','count']\n",
    "temp"
   ]
  },
  {
   "cell_type": "code",
   "execution_count": null,
   "metadata": {},
   "outputs": [],
   "source": [
    "# Plot the labels\n",
    "plt.figure(figsize = (9, 8))\n",
    "plt.title('frequency of labels')\n",
    "sns.set_color_codes(\"pastel\")\n",
    "sns.barplot(x=\"label\", y=\"count\", data=temp,\n",
    "            label=\"Count\")\n",
    "plt.show()"
   ]
  },
  {
   "cell_type": "code",
   "execution_count": null,
   "metadata": {},
   "outputs": [],
   "source": [
    "from IPython.display import Image, display\n",
    "\n",
    "listOfImageNames = ['../data/image_cats_dogs/1v4.jpg',\n",
    "                    '../data/image_cats_dogs/4vv.jpg',\n",
    "                    '../data/image_cats_dogs/x12.jpg',\n",
    "                    '../data/image_cats_dogs/x13.jpg']\n",
    "\n",
    "for imageName in listOfImageNames:\n",
    "    display(Image(filename=imageName))"
   ]
  },
  {
   "cell_type": "markdown",
   "metadata": {},
   "source": [
    "## 2. Structure your data"
   ]
  },
  {
   "cell_type": "markdown",
   "metadata": {},
   "source": [
    "You might have noticed that the images are not assigned to the required class yet.\n",
    "A neural network will process data better, if the images are split into subfolders.\n",
    "\n",
    "- Therefore structure the data using the csv file into two subfolders based on the schema below:\n",
    "    - Images\n",
    "        \n",
    "        -1 (Label Dog):\n",
    "            -866.jpg\n",
    "            -783.jpg\n",
    "            -...\n",
    "        -0 (Label Cat):\n",
    "            -u27.jpg\n",
    "            -099.jpg\n",
    "            -...\n",
    "    This could be done by completing the Python code with some lines..."
   ]
  },
  {
   "cell_type": "markdown",
   "metadata": {},
   "source": [
    "We already checked the labels and created the target folder 'images' for you:"
   ]
  },
  {
   "cell_type": "code",
   "execution_count": null,
   "metadata": {},
   "outputs": [],
   "source": [
    "print ('Dog-Label:', temp.label.iloc[0])\n",
    "print ('Cat-Label:', temp.label.iloc[1])\n",
    "\n",
    "if not os.path.exists('../temp/image_cats_dogs'):\n",
    "    os.makedirs('../temp/image_cats_dogs')"
   ]
  },
  {
   "cell_type": "markdown",
   "metadata": {},
   "source": [
    "It's your turn. Create for each label a sub-folder in 'images'!"
   ]
  },
  {
   "cell_type": "code",
   "execution_count": null,
   "metadata": {},
   "outputs": [],
   "source": [
    "#Generate Subfolders for each class\n",
    "for i in range(2):\n",
    "    label = str(temp.label.iloc[i])\n",
    "    path =  '../temp/image_cats_dogs/' + label\n",
    "    if not os.path.exists(path):\n",
    "        print ('Generated subfolder:', label)\n",
    "        os.makedirs(path)"
   ]
  },
  {
   "cell_type": "markdown",
   "metadata": {},
   "source": [
    "Now we have to assign the images to the right target folder. \n",
    "\n",
    "For that, complete the code with an if-clause and copy the images by their ids, if they are in 'image_ids'."
   ]
  },
  {
   "cell_type": "code",
   "execution_count": null,
   "metadata": {},
   "outputs": [],
   "source": [
    "# loop over csv columns\n",
    "for n in range(2):\n",
    "\n",
    "    image_ids =[]\n",
    "    t = csvlabels[(csvlabels.label == n)]\n",
    "    num_images = len(t.id)\n",
    "    print ('Number of images:',num_images)\n",
    "\n",
    "    #get list of image ids\n",
    "    for i in range(len(t.id)):\n",
    "        it = i - 1\n",
    "        image_ids.append(t.id.iloc[it])\n",
    "  \n",
    "    #check if the list contains id and move to subfolder\n",
    "    for root, dirs, files in os.walk('../data/image_cats_dogs'):  \n",
    "        for pic in files:\n",
    "  \n",
    "            #get imagename\n",
    "            p = os.path.splitext(pic)[0]   \n",
    "            inpath = '../data/image_cats_dogs/' + pic\n",
    "            outpath = '../temp/image_cats_dogs/' + str(n)\n",
    "            \n",
    "            #please insert the if metrics here:\n",
    "            if p in image_ids:\n",
    "                shutil.copy(inpath, outpath)"
   ]
  },
  {
   "cell_type": "markdown",
   "metadata": {},
   "source": [
    "## 3. Resize the images"
   ]
  },
  {
   "cell_type": "markdown",
   "metadata": {},
   "source": [
    "The images are now available central and classified. So, the preprocessing can be continued.\n",
    "One of the first steps is the guarantee, that all images exist in the same size and aspect ratios. It's common pratice to choose quadratic aspect ratios.\n",
    "With the so-called 'Cropping' a square can be cut out of an image.\n",
    "  \n",
    "- Crop all images to a resolution 250 x 250 pixels and use the Python Imaging Library (PIL).\n",
    "- Therefore complete the following code with a crop method!\n"
   ]
  },
  {
   "cell_type": "code",
   "execution_count": null,
   "metadata": {},
   "outputs": [],
   "source": [
    "from PIL import Image, ImageOps\n",
    "\n",
    "\n",
    "DESIRED_SIZE = 250, 250\n",
    "\n",
    "for n in range(2):\n",
    "    \n",
    "    for root, dirs, files in os.walk('../temp/image_cats_dogs/' + str(n)):   \n",
    "        for pic in files:\n",
    "            #print os.path.join(root, pic)\\n\",\n",
    "            img_path = os.path.join(root, pic)\n",
    "\n",
    "            \n",
    "            img = Image.open(img_path)\n",
    "            width, height = img.size\n",
    "\n",
    "            if width > height:\n",
    "               delta = width - height\n",
    "               left = int(delta/2)\n",
    "               upper = 0\n",
    "               right = height + left\n",
    "               lower = height\n",
    "            else:\n",
    "               delta = height - width\n",
    "               left = 0\n",
    "               upper = int(delta/2)\n",
    "               right = width\n",
    "               lower = width + upper\n",
    "            \n",
    "            #insert the crop method here! You will need four values!\n",
    "            img = img.crop((left, upper, right, lower))\n",
    "            \n",
    "            \n",
    "            img.thumbnail(DESIRED_SIZE, Image.ANTIALIAS)\n",
    "\n",
    "          \n",
    "            img.save(os.path.join(root, pic))\n",
    "\n",
    "\n"
   ]
  },
  {
   "cell_type": "markdown",
   "metadata": {},
   "source": [
    "- Now open a few images with the display method to check if it works!"
   ]
  },
  {
   "cell_type": "code",
   "execution_count": null,
   "metadata": {},
   "outputs": [],
   "source": [
    "from IPython.display import Image, display\n",
    "\n",
    "listOfImageNames = ['../temp/image_cats_dogs/1/1v4.jpg',\n",
    "                    '../temp/image_cats_dogs/1/4vv.jpg',\n",
    "                    '../temp/image_cats_dogs/0/x12.jpg',\n",
    "                    '../temp/image_cats_dogs/0/x13.jpg']\n",
    "\n",
    "for imageName in listOfImageNames:\n",
    "    display(Image(filename=imageName))"
   ]
  },
  {
   "cell_type": "markdown",
   "metadata": {},
   "source": [
    "## 4. Split your dataset"
   ]
  },
  {
   "cell_type": "markdown",
   "metadata": {},
   "source": [
    "To test your trained model after each epoch and show the development, the dataset will be splitted into train validation data.\n",
    "   \n",
    "- Which proportions would you choose?\n",
    "   \n",
    "- Split your dataset into these proportions.\n",
    "\n",
    "Hint: You can use 'train_test_split' method or simple coding using lists!"
   ]
  },
  {
   "cell_type": "code",
   "execution_count": null,
   "metadata": {},
   "outputs": [],
   "source": [
    "import random\n",
    "\n",
    "#add all images to list filenames\n",
    "filenames = []\n",
    "for n in range(2):\n",
    "\n",
    "    for root, dirs, files in os.walk('../temp/image_cats_dogs/' + str(n)): \n",
    "            for pic in files:\n",
    "                filenames.append(pic)\n",
    "                \n",
    "#print filenames\n",
    "filenames.sort()  # make sure that the filenames have a fixed order before shuffling\n",
    "random.seed(230)\n",
    "random.shuffle(filenames) # shuffles the ordering of filenames (deterministic given the chosen seed)\n",
    "    \n",
    "split_1 = int(0.8 * len(filenames))\n",
    "\n",
    "    \n",
    "train_filenames = filenames[:split_1]\n",
    "print ('train_dataset:', len(train_filenames))\n",
    "    \n",
    "valid_filenames = filenames[split_1:]\n",
    "print ('valid_dataset:', len(valid_filenames))\n",
    "\n",
    "    \n",
    "# generate subdirs\n",
    "# you can create the directory for classlabels manually or like the code below\n",
    "if not os.path.exists('../temp/image_cats_dogs/train'):\n",
    "    os.makedirs('../temp/image_cats_dogs/train')\n",
    "if not os.path.exists('../temp/image_cats_dogs/train/0'):\n",
    "    os.makedirs('../temp/image_cats_dogs/train/0')\n",
    "if not os.path.exists('../temp/image_cats_dogs/train/1'):\n",
    "    os.makedirs('../temp/image_cats_dogs/train/1')\n",
    "        \n",
    "if not os.path.exists('../temp/image_cats_dogs/valid'):\n",
    "    os.makedirs('../temp/image_cats_dogs/valid')\n",
    "if not os.path.exists('../temp/image_cats_dogs/valid/0'):\n",
    "    os.makedirs('../temp/image_cats_dogs/valid/0')\n",
    "if not os.path.exists('../temp/image_cats_dogs/valid/1'):\n",
    "    os.makedirs('../temp/image_cats_dogs/valid/1')\n",
    "        \n",
    "\n",
    "    \n",
    "num_train = []\n",
    "num_valid = []\n",
    "\n",
    "    \n",
    "for n in range(2):\n",
    "    \n",
    "    for root, dirs, files in os.walk('../temp/image_cats_dogs/' + str(n)): \n",
    "        for pic in files:\n",
    "               \n",
    "            if pic in train_filenames:\n",
    "                #print 'copy file to train:', pic\n",
    "                num_train.append(pic)\n",
    "                shutil.copy(os.path.join(root, pic), '../temp/image_cats_dogs/train/' + str(n) + '/' + pic)\n",
    "            elif pic in valid_filenames:\n",
    "                #print 'copy file to valid:', pic\n",
    "                num_valid.append(pic)\n",
    "                shutil.copy(os.path.join(root, pic), '../temp/image_cats_dogs/valid/' + str(n) + '/' + pic)\n",
    "            \n",
    "    \n",
    "print ('Copied to train:', len(num_train))\n",
    "print ('Copied to valid:', len(num_valid))\n",
    "    \n",
    "#delete older directory\n",
    "if os.path.exists('../temp/image_cats_dogs/0'):\n",
    "    shutil.rmtree('../temp/image_cats_dogs/0')\n",
    "        \n",
    "if os.path.exists('../temp/image_cats_dogs/1'):\n",
    "    shutil.rmtree('../temp/image_cats_dogs/1')"
   ]
  },
  {
   "cell_type": "markdown",
   "metadata": {},
   "source": [
    "## 5. Expand your train dataset"
   ]
  },
  {
   "cell_type": "markdown",
   "metadata": {},
   "source": [
    "Due to the fact that our previous dataset is too small for a successful training, we have to expand it. One way of achieving this is called 'Data Augmentation'. Within different transformation steps like rotation or perspectives we create further versions of an image. It helps the model to generalize better and it prevents overfitting.\n",
    "- First search for information about Data Augmentation in our NovaTec-Blog (https://blog.novatec-gmbh.de/keras-data-augmentation-for-cnn/)\n",
    "- After that apply Data Augmentation to one example image of your choice. Take note how different parameters affect the images!\n",
    "- Complete the code by an ImageDataGenerator(https://keras.io/preprocessing/image/)"
   ]
  },
  {
   "cell_type": "code",
   "execution_count": null,
   "metadata": {},
   "outputs": [],
   "source": [
    "from keras.preprocessing.image import ImageDataGenerator, array_to_img, img_to_array, load_img\n",
    "from IPython.display import Image, display\n",
    "\n",
    "#ImageDataGenerator datagen:\n",
    "datagen = ImageDataGenerator(\n",
    "            rotation_range=20,\n",
    "            width_shift_range=0.1,\n",
    "            height_shift_range=0.1,\n",
    "            shear_range=0.1,\n",
    "            zoom_range=0.1,\n",
    "            horizontal_flip=True,\n",
    "            fill_mode='nearest')\n",
    "    \n",
    "img = load_img('../temp/image_cats_dogs/train/1/555.jpg')  \n",
    "x = img_to_array(img)  # Numpy array with shape (250, 250, 3)\n",
    "x = x.reshape((1,) + x.shape)  # Numpy array with shape (1, 250, 250, 3)\n",
    "    \n",
    "    \n",
    "# generating batches of randomly transformed images\n",
    "# save to the 'augmentation' directory\n",
    "if not os.path.exists('../temp/image_cats_dogs/augmentation'):\n",
    "    os.makedirs('../temp/image_cats_dogs/augmentation')\n",
    "        \n",
    "i = 0\n",
    "for batch in datagen.flow(x, batch_size=1, save_to_dir='../temp/image_cats_dogs/augmentation', save_prefix='dog', save_format='jpeg'):\n",
    "    i += 1\n",
    "    # 10 images\n",
    "    if i > 9:\n",
    "        break \n",
    "    \n",
    "listOfAugmentedImages = []\n",
    "for root, dirs, files in os.walk('../temp/image_cats_dogs/augmentation/'):\n",
    "    for pic in files:\n",
    "        listOfAugmentedImages.append(os.path.join(root,pic))\n",
    "        \n",
    "for imageName in listOfAugmentedImages:\n",
    "        display(Image(filename=imageName))"
   ]
  },
  {
   "cell_type": "markdown",
   "metadata": {},
   "source": [
    "## 6. Convert to Byte-Array"
   ]
  },
  {
   "cell_type": "markdown",
   "metadata": {},
   "source": [
    "The data input into a neural net (convolutional neural net) must be available in byte format. For CNNs this would be a 4-D input tensor with the values [batch_size, width, height, channels].\n",
    "- Convert one image of your choice and output a byte array with shape [1,250, 250, 3].\n",
    "\n",
    "Hint: Use the Keras method 'img_to_array'!"
   ]
  },
  {
   "cell_type": "code",
   "execution_count": null,
   "metadata": {},
   "outputs": [],
   "source": [
    "from matplotlib.pyplot import imshow\n",
    "from PIL import Image\n",
    "import numpy as np\n",
    "\n",
    "%matplotlib inline\n",
    "image = Image.open('../temp/image_cats_dogs/train/1/555.jpg', 'r')\n",
    "\n",
    "#insert the method here:\n",
    "image = img_to_array(image)\n",
    "print ('Shape:', image.shape)\n",
    "imshow(image)\n",
    "\n",
    "image = image / 255\n",
    "image = np.expand_dims(image, axis=0)\n",
    "print ('Shape:', image.shape)"
   ]
  }
 ],
 "metadata": {
  "kernelspec": {
   "display_name": "Python 3",
   "language": "python",
   "name": "python3"
  },
  "language_info": {
   "codemirror_mode": {
    "name": "ipython",
    "version": 3
   },
   "file_extension": ".py",
   "mimetype": "text/x-python",
   "name": "python",
   "nbconvert_exporter": "python",
   "pygments_lexer": "ipython3",
   "version": "3.6.3"
  }
 },
 "nbformat": 4,
 "nbformat_minor": 2
}
